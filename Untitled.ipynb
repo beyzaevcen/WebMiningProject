{
 "cells": [
  {
   "cell_type": "code",
   "execution_count": 1,
   "id": "188582fc-bc6d-41a4-8c1c-91cb52493e03",
   "metadata": {},
   "outputs": [],
   "source": [
    "import pandas as pd\n",
    "import numpy as np\n"
   ]
  },
  {
   "cell_type": "code",
   "execution_count": 23,
   "id": "2bbb1814-ded1-4183-ac75-51d44f141d91",
   "metadata": {},
   "outputs": [],
   "source": [
    "df= pd.read_csv(\"series_by_year.csv\")"
   ]
  },
  {
   "cell_type": "code",
   "execution_count": 24,
   "id": "5b8eeb44-1fb0-4ed2-9862-6a6dbacf0b49",
   "metadata": {},
   "outputs": [
    {
     "data": {
      "text/plain": [
       "year\n",
       "2019                                                                                                                                  108\n",
       "2017                                                                                                                                   99\n",
       "2016                                                                                                                                   97\n",
       "2018                                                                                                                                   95\n",
       "2020                                                                                                                                   93\n",
       "2021                                                                                                                                   84\n",
       "2022                                                                                                                                   84\n",
       "2023                                                                                                                                   79\n",
       "<span class=\"flag\" style=\"background-image: url(https://asyafanatiklerim.com/wp-content/themes/Dootv441/assets/img/flags/tr.png)\">     60\n",
       "2015                                                                                                                                   56\n",
       "2014                                                                                                                                   50\n",
       "2013                                                                                                                                   33\n",
       "2024                                                                                                                                   24\n",
       "2011                                                                                                                                   16\n",
       "2012                                                                                                                                   12\n",
       "<span class=\"flag\" style=\"background-image: url(https://asyafanatiklerim.com/wp-content/themes/Dootv441/assets/img/flags/kr.png)\">     10\n",
       "2010                                                                                                                                    8\n",
       "Name: count, dtype: int64"
      ]
     },
     "execution_count": 24,
     "metadata": {},
     "output_type": "execute_result"
    }
   ],
   "source": [
    "df.year.value_counts()"
   ]
  },
  {
   "cell_type": "code",
   "execution_count": 25,
   "id": "efd32fee-e251-495d-9d91-f9af1942610f",
   "metadata": {},
   "outputs": [
    {
     "data": {
      "text/html": [
       "<div>\n",
       "<style scoped>\n",
       "    .dataframe tbody tr th:only-of-type {\n",
       "        vertical-align: middle;\n",
       "    }\n",
       "\n",
       "    .dataframe tbody tr th {\n",
       "        vertical-align: top;\n",
       "    }\n",
       "\n",
       "    .dataframe thead th {\n",
       "        text-align: right;\n",
       "    }\n",
       "</style>\n",
       "<table border=\"1\" class=\"dataframe\">\n",
       "  <thead>\n",
       "    <tr style=\"text-align: right;\">\n",
       "      <th></th>\n",
       "      <th>name</th>\n",
       "      <th>rating</th>\n",
       "      <th>year</th>\n",
       "      <th>url</th>\n",
       "    </tr>\n",
       "  </thead>\n",
       "  <tbody>\n",
       "    <tr>\n",
       "      <th>164</th>\n",
       "      <td>Fashion King</td>\n",
       "      <td>7.9</td>\n",
       "      <td>2012</td>\n",
       "      <td>https://asyafanatiklerim.com/dizi/fashion-king/</td>\n",
       "    </tr>\n",
       "    <tr>\n",
       "      <th>165</th>\n",
       "      <td>Dr. Jin</td>\n",
       "      <td>8.1</td>\n",
       "      <td>2012</td>\n",
       "      <td>https://asyafanatiklerim.com/dizi/dr-jin/</td>\n",
       "    </tr>\n",
       "    <tr>\n",
       "      <th>166</th>\n",
       "      <td>Sarayın Doktoru</td>\n",
       "      <td>8.2</td>\n",
       "      <td>2012</td>\n",
       "      <td>https://asyafanatiklerim.com/dizi/sarayin-dokt...</td>\n",
       "    </tr>\n",
       "    <tr>\n",
       "      <th>167</th>\n",
       "      <td>Love Rain</td>\n",
       "      <td>8.7</td>\n",
       "      <td>2012</td>\n",
       "      <td>https://asyafanatiklerim.com/dizi/love-rain/</td>\n",
       "    </tr>\n",
       "    <tr>\n",
       "      <th>168</th>\n",
       "      <td>Arang and the Magistrate</td>\n",
       "      <td>8.7</td>\n",
       "      <td>2012</td>\n",
       "      <td>https://asyafanatiklerim.com/dizi/arang-and-th...</td>\n",
       "    </tr>\n",
       "    <tr>\n",
       "      <th>169</th>\n",
       "      <td>The King 2 Hearts</td>\n",
       "      <td>8.6</td>\n",
       "      <td>2012</td>\n",
       "      <td>https://asyafanatiklerim.com/dizi/the-king-2-h...</td>\n",
       "    </tr>\n",
       "    <tr>\n",
       "      <th>170</th>\n",
       "      <td>The Moon Embracing the Sun</td>\n",
       "      <td>9.0</td>\n",
       "      <td>2012</td>\n",
       "      <td>https://asyafanatiklerim.com/dizi/the-moon-emb...</td>\n",
       "    </tr>\n",
       "    <tr>\n",
       "      <th>171</th>\n",
       "      <td>I Do, I Do</td>\n",
       "      <td>7.2</td>\n",
       "      <td>2012</td>\n",
       "      <td>https://asyafanatiklerim.com/dizi/i-do-i-do/</td>\n",
       "    </tr>\n",
       "    <tr>\n",
       "      <th>172</th>\n",
       "      <td>Goodbye Dear Wife</td>\n",
       "      <td>6.8</td>\n",
       "      <td>2012</td>\n",
       "      <td>https://asyafanatiklerim.com/dizi/goodbye-dear...</td>\n",
       "    </tr>\n",
       "    <tr>\n",
       "      <th>173</th>\n",
       "      <td>Heartbeat Love</td>\n",
       "      <td>6.2</td>\n",
       "      <td>2012</td>\n",
       "      <td>https://asyafanatiklerim.com/dizi/heartbeat-love/</td>\n",
       "    </tr>\n",
       "    <tr>\n",
       "      <th>174</th>\n",
       "      <td>Faith</td>\n",
       "      <td>9.0</td>\n",
       "      <td>2012</td>\n",
       "      <td>https://asyafanatiklerim.com/dizi/faith/</td>\n",
       "    </tr>\n",
       "    <tr>\n",
       "      <th>175</th>\n",
       "      <td>To The Beautiful You</td>\n",
       "      <td>8.5</td>\n",
       "      <td>2012</td>\n",
       "      <td>https://asyafanatiklerim.com/dizi/to-the-beaut...</td>\n",
       "    </tr>\n",
       "  </tbody>\n",
       "</table>\n",
       "</div>"
      ],
      "text/plain": [
       "                           name  rating  year  \\\n",
       "164                Fashion King     7.9  2012   \n",
       "165                     Dr. Jin     8.1  2012   \n",
       "166             Sarayın Doktoru     8.2  2012   \n",
       "167                   Love Rain     8.7  2012   \n",
       "168    Arang and the Magistrate     8.7  2012   \n",
       "169           The King 2 Hearts     8.6  2012   \n",
       "170  The Moon Embracing the Sun     9.0  2012   \n",
       "171                  I Do, I Do     7.2  2012   \n",
       "172           Goodbye Dear Wife     6.8  2012   \n",
       "173              Heartbeat Love     6.2  2012   \n",
       "174                       Faith     9.0  2012   \n",
       "175        To The Beautiful You     8.5  2012   \n",
       "\n",
       "                                                   url  \n",
       "164    https://asyafanatiklerim.com/dizi/fashion-king/  \n",
       "165          https://asyafanatiklerim.com/dizi/dr-jin/  \n",
       "166  https://asyafanatiklerim.com/dizi/sarayin-dokt...  \n",
       "167       https://asyafanatiklerim.com/dizi/love-rain/  \n",
       "168  https://asyafanatiklerim.com/dizi/arang-and-th...  \n",
       "169  https://asyafanatiklerim.com/dizi/the-king-2-h...  \n",
       "170  https://asyafanatiklerim.com/dizi/the-moon-emb...  \n",
       "171       https://asyafanatiklerim.com/dizi/i-do-i-do/  \n",
       "172  https://asyafanatiklerim.com/dizi/goodbye-dear...  \n",
       "173  https://asyafanatiklerim.com/dizi/heartbeat-love/  \n",
       "174           https://asyafanatiklerim.com/dizi/faith/  \n",
       "175  https://asyafanatiklerim.com/dizi/to-the-beaut...  "
      ]
     },
     "execution_count": 25,
     "metadata": {},
     "output_type": "execute_result"
    }
   ],
   "source": [
    "df[df[\"year\"] == '2012']"
   ]
  },
  {
   "cell_type": "code",
   "execution_count": 26,
   "id": "6afd8c8e-03f0-4bcc-9f1e-2fee9316e9f1",
   "metadata": {},
   "outputs": [],
   "source": [
    "df.loc[df[\"name\"] == \"The Thieves\", \"year\"] = '2012'"
   ]
  },
  {
   "cell_type": "code",
   "execution_count": null,
   "id": "1c8c77f0-4616-406d-9095-208e35060dd8",
   "metadata": {},
   "outputs": [],
   "source": []
  }
 ],
 "metadata": {
  "kernelspec": {
   "display_name": "Python 3 (ipykernel)",
   "language": "python",
   "name": "python3"
  },
  "language_info": {
   "codemirror_mode": {
    "name": "ipython",
    "version": 3
   },
   "file_extension": ".py",
   "mimetype": "text/x-python",
   "name": "python",
   "nbconvert_exporter": "python",
   "pygments_lexer": "ipython3",
   "version": "3.11.7"
  }
 },
 "nbformat": 4,
 "nbformat_minor": 5
}
