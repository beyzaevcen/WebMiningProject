{
 "cells": [
  {
   "cell_type": "code",
   "execution_count": 2,
   "id": "188582fc-bc6d-41a4-8c1c-91cb52493e03",
   "metadata": {},
   "outputs": [],
   "source": [
    "import pandas as pd\n",
    "import numpy as np\n"
   ]
  },
  {
   "cell_type": "code",
   "execution_count": 5,
   "id": "2bbb1814-ded1-4183-ac75-51d44f141d91",
   "metadata": {},
   "outputs": [],
   "source": [
    "df= pd.read_csv(\"new2.csv\")"
   ]
  },
  {
   "attachments": {
    "1c0278cb-75c4-4d8b-8ab2-c78437af1f41.png": {
     "image/png": "[encoded data removed]"
    }
   },
   "cell_type": "markdown",
   "id": "457460b9-f08e-419e-be4b-314469c0ef42",
   "metadata": {},
   "source": [
    "![image.png](attachment:1c0278cb-75c4-4d8b-8ab2-c78437af1f41.png)"
   ]
  },
  {
   "cell_type": "code",
   "execution_count": 6,
   "id": "5b8eeb44-1fb0-4ed2-9862-6a6dbacf0b49",
   "metadata": {},
   "outputs": [
    {
     "data": {
      "text/plain": [
       "year\n",
       "2016    98\n",
       "2020    93\n",
       "2022    85\n",
       "2021    84\n",
       "2018    80\n",
       "2017    80\n",
       "2023    79\n",
       "2019    60\n",
       "2015    56\n",
       "2014    51\n",
       "2013    33\n",
       "2024    24\n",
       "2011    16\n",
       "2012    13\n",
       "2010     8\n",
       "Name: count, dtype: int64"
      ]
     },
     "execution_count": 6,
     "metadata": {},
     "output_type": "execute_result"
    }
   ],
   "source": [
    "df.year.value_counts()"
   ]
  },
  {
   "cell_type": "code",
   "execution_count": 7,
   "id": "efd32fee-e251-495d-9d91-f9af1942610f",
   "metadata": {},
   "outputs": [
    {
     "data": {
      "text/html": [
       "<div>\n",
       "<style scoped>\n",
       "    .dataframe tbody tr th:only-of-type {\n",
       "        vertical-align: middle;\n",
       "    }\n",
       "\n",
       "    .dataframe tbody tr th {\n",
       "        vertical-align: top;\n",
       "    }\n",
       "\n",
       "    .dataframe thead th {\n",
       "        text-align: right;\n",
       "    }\n",
       "</style>\n",
       "<table border=\"1\" class=\"dataframe\">\n",
       "  <thead>\n",
       "    <tr style=\"text-align: right;\">\n",
       "      <th></th>\n",
       "      <th>name</th>\n",
       "      <th>rating</th>\n",
       "      <th>year</th>\n",
       "      <th>url</th>\n",
       "    </tr>\n",
       "  </thead>\n",
       "  <tbody>\n",
       "    <tr>\n",
       "      <th>0</th>\n",
       "      <td>A Taiwanese Tale of Two Cities</td>\n",
       "      <td>6.9</td>\n",
       "      <td>2018</td>\n",
       "      <td>https://asyafanatiklerim.com/dizi/a-taiwanese-...</td>\n",
       "    </tr>\n",
       "    <tr>\n",
       "      <th>1</th>\n",
       "      <td>Bloody Romance</td>\n",
       "      <td>8.6</td>\n",
       "      <td>2018</td>\n",
       "      <td>https://asyafanatiklerim.com/dizi/bloody-roman...</td>\n",
       "    </tr>\n",
       "    <tr>\n",
       "      <th>2</th>\n",
       "      <td>Your Imagination Becomes Reality</td>\n",
       "      <td>8.1</td>\n",
       "      <td>2018</td>\n",
       "      <td>https://asyafanatiklerim.com/dizi/your-imagina...</td>\n",
       "    </tr>\n",
       "    <tr>\n",
       "      <th>3</th>\n",
       "      <td>A Teen</td>\n",
       "      <td>8.9</td>\n",
       "      <td>2018</td>\n",
       "      <td>https://asyafanatiklerim.com/dizi/a-teen/</td>\n",
       "    </tr>\n",
       "    <tr>\n",
       "      <th>4</th>\n",
       "      <td>Taste of Cat</td>\n",
       "      <td>7.5</td>\n",
       "      <td>2018</td>\n",
       "      <td>https://asyafanatiklerim.com/dizi/taste-of-cat/</td>\n",
       "    </tr>\n",
       "    <tr>\n",
       "      <th>...</th>\n",
       "      <td>...</td>\n",
       "      <td>...</td>\n",
       "      <td>...</td>\n",
       "      <td>...</td>\n",
       "    </tr>\n",
       "    <tr>\n",
       "      <th>855</th>\n",
       "      <td>Be Melodramatic</td>\n",
       "      <td>7.6</td>\n",
       "      <td>2019</td>\n",
       "      <td>https://asyafanatiklerim.com/dizi/be-melodrama...</td>\n",
       "    </tr>\n",
       "    <tr>\n",
       "      <th>856</th>\n",
       "      <td>Welcome 2 Life</td>\n",
       "      <td>8.5</td>\n",
       "      <td>2019</td>\n",
       "      <td>https://asyafanatiklerim.com/dizi/welcome-2-li...</td>\n",
       "    </tr>\n",
       "    <tr>\n",
       "      <th>857</th>\n",
       "      <td>Everything and Nothing</td>\n",
       "      <td>7.8</td>\n",
       "      <td>2019</td>\n",
       "      <td>https://asyafanatiklerim.com/dizi/everything-a...</td>\n",
       "    </tr>\n",
       "    <tr>\n",
       "      <th>858</th>\n",
       "      <td>Life</td>\n",
       "      <td>8.0</td>\n",
       "      <td>2018</td>\n",
       "      <td>https://asyafanatiklerim.com/dizi/life/</td>\n",
       "    </tr>\n",
       "    <tr>\n",
       "      <th>859</th>\n",
       "      <td>Little Forest</td>\n",
       "      <td>8.4</td>\n",
       "      <td>2018</td>\n",
       "      <td>https://asyafanatiklerim.com/film/little-forest/</td>\n",
       "    </tr>\n",
       "  </tbody>\n",
       "</table>\n",
       "<p>860 rows × 4 columns</p>\n",
       "</div>"
      ],
      "text/plain": [
       "                                 name  rating  year  \\\n",
       "0      A Taiwanese Tale of Two Cities     6.9  2018   \n",
       "1                      Bloody Romance     8.6  2018   \n",
       "2    Your Imagination Becomes Reality     8.1  2018   \n",
       "3                              A Teen     8.9  2018   \n",
       "4                        Taste of Cat     7.5  2018   \n",
       "..                                ...     ...   ...   \n",
       "855                   Be Melodramatic     7.6  2019   \n",
       "856                    Welcome 2 Life     8.5  2019   \n",
       "857            Everything and Nothing     7.8  2019   \n",
       "858                              Life     8.0  2018   \n",
       "859                     Little Forest     8.4  2018   \n",
       "\n",
       "                                                   url  \n",
       "0    https://asyafanatiklerim.com/dizi/a-taiwanese-...  \n",
       "1    https://asyafanatiklerim.com/dizi/bloody-roman...  \n",
       "2    https://asyafanatiklerim.com/dizi/your-imagina...  \n",
       "3            https://asyafanatiklerim.com/dizi/a-teen/  \n",
       "4      https://asyafanatiklerim.com/dizi/taste-of-cat/  \n",
       "..                                                 ...  \n",
       "855  https://asyafanatiklerim.com/dizi/be-melodrama...  \n",
       "856  https://asyafanatiklerim.com/dizi/welcome-2-li...  \n",
       "857  https://asyafanatiklerim.com/dizi/everything-a...  \n",
       "858            https://asyafanatiklerim.com/dizi/life/  \n",
       "859   https://asyafanatiklerim.com/film/little-forest/  \n",
       "\n",
       "[860 rows x 4 columns]"
      ]
     },
     "execution_count": 7,
     "metadata": {},
     "output_type": "execute_result"
    }
   ],
   "source": [
    "df"
   ]
  },
  {
   "cell_type": "code",
   "execution_count": 26,
   "id": "6afd8c8e-03f0-4bcc-9f1e-2fee9316e9f1",
   "metadata": {},
   "outputs": [],
   "source": [
    "df.loc[df[\"name\"] == \"The Thieves\", \"year\"] = '2012'"
   ]
  },
  {
   "cell_type": "code",
   "execution_count": null,
   "id": "1c8c77f0-4616-406d-9095-208e35060dd8",
   "metadata": {},
   "outputs": [],
   "source": []
  }
 ],
 "metadata": {
  "kernelspec": {
   "display_name": "Python 3 (ipykernel)",
   "language": "python",
   "name": "python3"
  },
  "language_info": {
   "codemirror_mode": {
    "name": "ipython",
    "version": 3
   },
   "file_extension": ".py",
   "mimetype": "text/x-python",
   "name": "python",
   "nbconvert_exporter": "python",
   "pygments_lexer": "ipython3",
   "version": "3.11.7"
  }
 },
 "nbformat": 4,
 "nbformat_minor": 5
}
